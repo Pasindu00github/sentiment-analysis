{
 "cells": [
  {
   "cell_type": "code",
   "execution_count": 1,
   "id": "5c78bc96-0686-4e3a-ad35-65bb89751b41",
   "metadata": {},
   "outputs": [],
   "source": [
    "import numpy as np\n",
    "import pandas as pd\n",
    "import matplotlib.pyplot as plt\n"
   ]
  },
  {
   "cell_type": "code",
   "execution_count": 2,
   "id": "c56ed7a2-f48b-4619-a62a-197d4dcbb140",
   "metadata": {},
   "outputs": [],
   "source": [
    "data = pd.read_csv('../artifacts/sentiment_analysis.csv')"
   ]
  },
  {
   "cell_type": "code",
   "execution_count": 3,
   "id": "9b681aca-0d19-4a53-8205-8352b788b6e1",
   "metadata": {},
   "outputs": [
    {
     "data": {
      "text/html": [
       "<div>\n",
       "<style scoped>\n",
       "    .dataframe tbody tr th:only-of-type {\n",
       "        vertical-align: middle;\n",
       "    }\n",
       "\n",
       "    .dataframe tbody tr th {\n",
       "        vertical-align: top;\n",
       "    }\n",
       "\n",
       "    .dataframe thead th {\n",
       "        text-align: right;\n",
       "    }\n",
       "</style>\n",
       "<table border=\"1\" class=\"dataframe\">\n",
       "  <thead>\n",
       "    <tr style=\"text-align: right;\">\n",
       "      <th></th>\n",
       "      <th>id</th>\n",
       "      <th>label</th>\n",
       "      <th>tweet</th>\n",
       "    </tr>\n",
       "  </thead>\n",
       "  <tbody>\n",
       "    <tr>\n",
       "      <th>0</th>\n",
       "      <td>5.0</td>\n",
       "      <td>1</td>\n",
       "      <td>What amazing service! Apple won't even talk to...</td>\n",
       "    </tr>\n",
       "    <tr>\n",
       "      <th>1</th>\n",
       "      <td>6.0</td>\n",
       "      <td>1</td>\n",
       "      <td>iPhone software update fucked up my phone big ...</td>\n",
       "    </tr>\n",
       "    <tr>\n",
       "      <th>2</th>\n",
       "      <td>11.0</td>\n",
       "      <td>1</td>\n",
       "      <td>hey #apple when you make a new ipod dont make ...</td>\n",
       "    </tr>\n",
       "    <tr>\n",
       "      <th>3</th>\n",
       "      <td>12.0</td>\n",
       "      <td>1</td>\n",
       "      <td>Ha! Not heavy machinery but it does what I nee...</td>\n",
       "    </tr>\n",
       "    <tr>\n",
       "      <th>4</th>\n",
       "      <td>13.0</td>\n",
       "      <td>1</td>\n",
       "      <td>Contemplating giving in to the iPhone bandwago...</td>\n",
       "    </tr>\n",
       "  </tbody>\n",
       "</table>\n",
       "</div>"
      ],
      "text/plain": [
       "     id  label                                              tweet\n",
       "0   5.0      1  What amazing service! Apple won't even talk to...\n",
       "1   6.0      1  iPhone software update fucked up my phone big ...\n",
       "2  11.0      1  hey #apple when you make a new ipod dont make ...\n",
       "3  12.0      1  Ha! Not heavy machinery but it does what I nee...\n",
       "4  13.0      1  Contemplating giving in to the iPhone bandwago..."
      ]
     },
     "execution_count": 3,
     "metadata": {},
     "output_type": "execute_result"
    }
   ],
   "source": [
    "data.head()"
   ]
  },
  {
   "cell_type": "markdown",
   "id": "f0f6578c-140e-4350-b093-9ff3677cba85",
   "metadata": {},
   "source": [
    "\n",
    "### remove duplicate and null valune"
   ]
  },
  {
   "cell_type": "code",
   "execution_count": 4,
   "id": "c76fccee-104d-485c-b033-b28466344fd9",
   "metadata": {},
   "outputs": [
    {
     "data": {
      "text/plain": [
       "(8000, 3)"
      ]
     },
     "execution_count": 4,
     "metadata": {},
     "output_type": "execute_result"
    }
   ],
   "source": [
    "data.shape"
   ]
  },
  {
   "cell_type": "code",
   "execution_count": 5,
   "id": "6b6ea455-0bb4-4899-9506-da0c867658a5",
   "metadata": {},
   "outputs": [
    {
     "data": {
      "text/plain": [
       "26"
      ]
     },
     "execution_count": 5,
     "metadata": {},
     "output_type": "execute_result"
    }
   ],
   "source": [
    "data.duplicated().sum()"
   ]
  },
  {
   "cell_type": "code",
   "execution_count": 6,
   "id": "884a31ea-7916-4822-83b2-cecc49d4bb36",
   "metadata": {},
   "outputs": [
    {
     "data": {
      "text/plain": [
       "id       80\n",
       "label     0\n",
       "tweet     0\n",
       "dtype: int64"
      ]
     },
     "execution_count": 6,
     "metadata": {},
     "output_type": "execute_result"
    }
   ],
   "source": [
    "data.isnull().sum()"
   ]
  },
  {
   "cell_type": "code",
   "execution_count": 7,
   "id": "d47f9b4a-ebb2-46eb-8e78-7e103de32e57",
   "metadata": {},
   "outputs": [],
   "source": [
    "# text preprocessing\n"
   ]
  },
  {
   "cell_type": "code",
   "execution_count": 28,
   "id": "8c77faf5-14fd-4765-a1c7-5f71263c5dc0",
   "metadata": {},
   "outputs": [],
   "source": [
    "import re\n",
    "import string\n"
   ]
  },
  {
   "cell_type": "markdown",
   "id": "7dac0b65-afbf-43eb-bcc8-5097dd0f3727",
   "metadata": {},
   "source": [
    "### convert to uppercase and lowercase"
   ]
  },
  {
   "cell_type": "code",
   "execution_count": 29,
   "id": "57a35383-3f86-4d10-8523-b3fa1610661a",
   "metadata": {},
   "outputs": [],
   "source": [
    "data[\"tweet\"] = data[\"tweet\"].apply(lambda x: \"   \".join(x.lower() for x in x.split()))"
   ]
  },
  {
   "cell_type": "code",
   "execution_count": 30,
   "id": "d4bf66d9-574f-4800-84c5-26323561965b",
   "metadata": {},
   "outputs": [
    {
     "data": {
      "text/plain": [
       "0    what   amazing   service!   apple   won't   ev...\n",
       "1    iphone   software   update   fucked   up   my ...\n",
       "2    hey   #apple   when   you   make   a   new   i...\n",
       "3    ha!   not   heavy   machinery   but   it   doe...\n",
       "4    contemplating   giving   in   to   the   iphon...\n",
       "Name: tweet, dtype: object"
      ]
     },
     "execution_count": 30,
     "metadata": {},
     "output_type": "execute_result"
    }
   ],
   "source": [
    "data[\"tweet\"].head(5)\n"
   ]
  },
  {
   "cell_type": "markdown",
   "id": "c6e5359f-b0cb-47d8-88ef-7eb475b1e69c",
   "metadata": {},
   "source": [
    "### Remove links"
   ]
  },
  {
   "cell_type": "code",
   "execution_count": 31,
   "id": "23ff6ae4-a7d3-44dd-bcb9-6dff8e642f2f",
   "metadata": {},
   "outputs": [],
   "source": [
    "\n",
    "\n",
    "import re\n",
    "\n",
    "data[\"tweet\"] = data[\"tweet\"].apply(lambda x: \" \".join(re.sub(r'https?://\\S+', '', word) for word in x.split()))\n",
    "\n"
   ]
  },
  {
   "cell_type": "code",
   "execution_count": 32,
   "id": "3fc3cf90-8529-4376-a90f-c671c64322ab",
   "metadata": {},
   "outputs": [
    {
     "data": {
      "text/plain": [
       "0    what amazing service! apple won't even talk to...\n",
       "1    iphone software update fucked up my phone big ...\n",
       "2    hey #apple when you make a new ipod dont make ...\n",
       "3    ha! not heavy machinery but it does what i nee...\n",
       "4    contemplating giving in to the iphone bandwago...\n",
       "Name: tweet, dtype: object"
      ]
     },
     "execution_count": 32,
     "metadata": {},
     "output_type": "execute_result"
    }
   ],
   "source": [
    "data[\"tweet\"].head(5)"
   ]
  },
  {
   "cell_type": "markdown",
   "id": "5bd8f922-9a54-433b-8b18-0dc55d0e347f",
   "metadata": {},
   "source": [
    "### Remove puncuvation"
   ]
  },
  {
   "cell_type": "code",
   "execution_count": 33,
   "id": "ca6cd0a9-d4f7-4baf-87d5-5b5993950085",
   "metadata": {},
   "outputs": [
    {
     "data": {
      "text/plain": [
       "'!\"#$%&\\'()*+,-./:;<=>?@[\\\\]^_`{|}~'"
      ]
     },
     "execution_count": 33,
     "metadata": {},
     "output_type": "execute_result"
    }
   ],
   "source": [
    "string.punctuation"
   ]
  },
  {
   "cell_type": "code",
   "execution_count": 34,
   "id": "7010c825-322b-4e7a-9b79-bd232d41f135",
   "metadata": {},
   "outputs": [],
   "source": [
    "\n",
    "\n",
    "def remove_punctuations(text):\n",
    "    for punctuation in string.punctuation:\n",
    "        text = text.replace(punctuation, '')\n",
    "    return text\n",
    "\n",
    "data[\"tweet\"] = data[\"tweet\"].apply(remove_punctuations)\n",
    "\n"
   ]
  },
  {
   "cell_type": "code",
   "execution_count": 35,
   "id": "05da48c7-ec5c-485d-bff1-e80dd69c3156",
   "metadata": {},
   "outputs": [
    {
     "data": {
      "text/plain": [
       "0    what amazing service apple wont even talk to m...\n",
       "1    iphone software update fucked up my phone big ...\n",
       "2    hey apple when you make a new ipod dont make i...\n",
       "3    ha not heavy machinery but it does what i need...\n",
       "4    contemplating giving in to the iphone bandwago...\n",
       "Name: tweet, dtype: object"
      ]
     },
     "execution_count": 35,
     "metadata": {},
     "output_type": "execute_result"
    }
   ],
   "source": [
    "data[\"tweet\"].head(5)"
   ]
  },
  {
   "cell_type": "code",
   "execution_count": 36,
   "id": "52740c17-e47e-4ce3-a13b-f44cafe0a0d4",
   "metadata": {},
   "outputs": [
    {
     "data": {
      "text/plain": [
       "7990    im amazed by how effective this product is its...\n",
       "7991    ive been using this product for months now and...\n",
       "7992    this product has become a musthave for me i ca...\n",
       "7993    im so glad i took a chance on this product its...\n",
       "7994    this product has simplified my cooking routine...\n",
       "7995    ive recommended this product to all my friends...\n",
       "7996    ive tried countless products in the past but n...\n",
       "7997    this product has made such a noticeable differ...\n",
       "7998    im amazed by how well this product works zero ...\n",
       "7999    ive been using this product for years now and ...\n",
       "Name: tweet, dtype: object"
      ]
     },
     "execution_count": 36,
     "metadata": {},
     "output_type": "execute_result"
    }
   ],
   "source": [
    "\n",
    "\n",
    "\n",
    "data[\"tweet\"].tail(10)"
   ]
  },
  {
   "cell_type": "markdown",
   "id": "7dff7fd3-bf5d-4b3b-8208-63c9e206c1a8",
   "metadata": {},
   "source": [
    "### Remove Numbers"
   ]
  },
  {
   "cell_type": "code",
   "execution_count": 37,
   "id": "1c614991-8075-4869-bebd-5d66b2af3ec4",
   "metadata": {},
   "outputs": [],
   "source": [
    "\n",
    "data[\"tweet\"] = data['tweet'].str.replace(r'\\d+', '', regex=True)\n"
   ]
  },
  {
   "cell_type": "code",
   "execution_count": 38,
   "id": "a7e49e1a-2845-43b7-a444-4d4d5c901c6d",
   "metadata": {},
   "outputs": [
    {
     "data": {
      "text/plain": [
       "7990    im amazed by how effective this product is its...\n",
       "7991    ive been using this product for months now and...\n",
       "7992    this product has become a musthave for me i ca...\n",
       "7993    im so glad i took a chance on this product its...\n",
       "7994    this product has simplified my cooking routine...\n",
       "7995    ive recommended this product to all my friends...\n",
       "7996    ive tried countless products in the past but n...\n",
       "7997    this product has made such a noticeable differ...\n",
       "7998    im amazed by how well this product works zero ...\n",
       "7999    ive been using this product for years now and ...\n",
       "Name: tweet, dtype: object"
      ]
     },
     "execution_count": 38,
     "metadata": {},
     "output_type": "execute_result"
    }
   ],
   "source": [
    "data[\"tweet\"].tail(10)"
   ]
  },
  {
   "cell_type": "markdown",
   "id": "aaf60818-3e85-47fd-9cc8-1a6ad8e18be9",
   "metadata": {},
   "source": [
    "### Downloads Stopwords"
   ]
  },
  {
   "cell_type": "code",
   "execution_count": 39,
   "id": "cf2f1d75-c7cd-4af7-af6b-e5b51e668a4d",
   "metadata": {},
   "outputs": [],
   "source": [
    "import nltk"
   ]
  },
  {
   "cell_type": "code",
   "execution_count": 40,
   "id": "4a738c4d-860d-439f-8329-a251dd45d462",
   "metadata": {},
   "outputs": [
    {
     "name": "stderr",
     "output_type": "stream",
     "text": [
      "[nltk_data] Downloading package stopwords to ../static/model/...\n",
      "[nltk_data]   Package stopwords is already up-to-date!\n"
     ]
    },
    {
     "data": {
      "text/plain": [
       "True"
      ]
     },
     "execution_count": 40,
     "metadata": {},
     "output_type": "execute_result"
    }
   ],
   "source": [
    "nltk.download('stopwords',download_dir='../static/model/')"
   ]
  },
  {
   "cell_type": "code",
   "execution_count": 41,
   "id": "911ed50d-fc28-4493-880f-d93eaebb2551",
   "metadata": {},
   "outputs": [],
   "source": [
    "\n",
    "with open('../static/model/corpora/stopwords/english','r') as file:\n",
    "    sw = file.read().splitlines()"
   ]
  },
  {
   "cell_type": "code",
   "execution_count": 42,
   "id": "56070193-1135-466f-b7e6-50a56d6d1817",
   "metadata": {},
   "outputs": [
    {
     "data": {
      "text/plain": [
       "['i',\n",
       " 'me',\n",
       " 'my',\n",
       " 'myself',\n",
       " 'we',\n",
       " 'our',\n",
       " 'ours',\n",
       " 'ourselves',\n",
       " 'you',\n",
       " \"you're\",\n",
       " \"you've\",\n",
       " \"you'll\",\n",
       " \"you'd\",\n",
       " 'your',\n",
       " 'yours',\n",
       " 'yourself',\n",
       " 'yourselves',\n",
       " 'he',\n",
       " 'him',\n",
       " 'his',\n",
       " 'himself',\n",
       " 'she',\n",
       " \"she's\",\n",
       " 'her',\n",
       " 'hers',\n",
       " 'herself',\n",
       " 'it',\n",
       " \"it's\",\n",
       " 'its',\n",
       " 'itself',\n",
       " 'they',\n",
       " 'them',\n",
       " 'their',\n",
       " 'theirs',\n",
       " 'themselves',\n",
       " 'what',\n",
       " 'which',\n",
       " 'who',\n",
       " 'whom',\n",
       " 'this',\n",
       " 'that',\n",
       " \"that'll\",\n",
       " 'these',\n",
       " 'those',\n",
       " 'am',\n",
       " 'is',\n",
       " 'are',\n",
       " 'was',\n",
       " 'were',\n",
       " 'be',\n",
       " 'been',\n",
       " 'being',\n",
       " 'have',\n",
       " 'has',\n",
       " 'had',\n",
       " 'having',\n",
       " 'do',\n",
       " 'does',\n",
       " 'did',\n",
       " 'doing',\n",
       " 'a',\n",
       " 'an',\n",
       " 'the',\n",
       " 'and',\n",
       " 'but',\n",
       " 'if',\n",
       " 'or',\n",
       " 'because',\n",
       " 'as',\n",
       " 'until',\n",
       " 'while',\n",
       " 'of',\n",
       " 'at',\n",
       " 'by',\n",
       " 'for',\n",
       " 'with',\n",
       " 'about',\n",
       " 'against',\n",
       " 'between',\n",
       " 'into',\n",
       " 'through',\n",
       " 'during',\n",
       " 'before',\n",
       " 'after',\n",
       " 'above',\n",
       " 'below',\n",
       " 'to',\n",
       " 'from',\n",
       " 'up',\n",
       " 'down',\n",
       " 'in',\n",
       " 'out',\n",
       " 'on',\n",
       " 'off',\n",
       " 'over',\n",
       " 'under',\n",
       " 'again',\n",
       " 'further',\n",
       " 'then',\n",
       " 'once',\n",
       " 'here',\n",
       " 'there',\n",
       " 'when',\n",
       " 'where',\n",
       " 'why',\n",
       " 'how',\n",
       " 'all',\n",
       " 'any',\n",
       " 'both',\n",
       " 'each',\n",
       " 'few',\n",
       " 'more',\n",
       " 'most',\n",
       " 'other',\n",
       " 'some',\n",
       " 'such',\n",
       " 'no',\n",
       " 'nor',\n",
       " 'not',\n",
       " 'only',\n",
       " 'own',\n",
       " 'same',\n",
       " 'so',\n",
       " 'than',\n",
       " 'too',\n",
       " 'very',\n",
       " 's',\n",
       " 't',\n",
       " 'can',\n",
       " 'will',\n",
       " 'just',\n",
       " 'don',\n",
       " \"don't\",\n",
       " 'should',\n",
       " \"should've\",\n",
       " 'now',\n",
       " 'd',\n",
       " 'll',\n",
       " 'm',\n",
       " 'o',\n",
       " 're',\n",
       " 've',\n",
       " 'y',\n",
       " 'ain',\n",
       " 'aren',\n",
       " \"aren't\",\n",
       " 'couldn',\n",
       " \"couldn't\",\n",
       " 'didn',\n",
       " \"didn't\",\n",
       " 'doesn',\n",
       " \"doesn't\",\n",
       " 'hadn',\n",
       " \"hadn't\",\n",
       " 'hasn',\n",
       " \"hasn't\",\n",
       " 'haven',\n",
       " \"haven't\",\n",
       " 'isn',\n",
       " \"isn't\",\n",
       " 'ma',\n",
       " 'mightn',\n",
       " \"mightn't\",\n",
       " 'mustn',\n",
       " \"mustn't\",\n",
       " 'needn',\n",
       " \"needn't\",\n",
       " 'shan',\n",
       " \"shan't\",\n",
       " 'shouldn',\n",
       " \"shouldn't\",\n",
       " 'wasn',\n",
       " \"wasn't\",\n",
       " 'weren',\n",
       " \"weren't\",\n",
       " 'won',\n",
       " \"won't\",\n",
       " 'wouldn',\n",
       " \"wouldn't\"]"
      ]
     },
     "execution_count": 42,
     "metadata": {},
     "output_type": "execute_result"
    }
   ],
   "source": [
    "sw"
   ]
  },
  {
   "cell_type": "code",
   "execution_count": 43,
   "id": "4d435009-6a29-4a37-b6ea-7ef8d0263f2d",
   "metadata": {},
   "outputs": [
    {
     "data": {
      "text/plain": [
       "0    what amazing service apple wont even talk to m...\n",
       "1    iphone software update fucked up my phone big ...\n",
       "2    hey apple when you make a new ipod dont make i...\n",
       "3    ha not heavy machinery but it does what i need...\n",
       "4    contemplating giving in to the iphone bandwago...\n",
       "Name: tweet, dtype: object"
      ]
     },
     "execution_count": 43,
     "metadata": {},
     "output_type": "execute_result"
    }
   ],
   "source": [
    "data[\"tweet\"].head()"
   ]
  },
  {
   "cell_type": "markdown",
   "id": "a3c77bf6-2807-41c0-9f70-85f1b32e7f59",
   "metadata": {},
   "source": [
    "### Remove stopwords\n"
   ]
  },
  {
   "cell_type": "code",
   "execution_count": 44,
   "id": "378353f1-c663-4efc-81f8-13e95c0b3819",
   "metadata": {},
   "outputs": [],
   "source": [
    "data[\"tweet\"] = data[\"tweet\"].apply(lambda x: \" \".join(x for x in x.split() if x not in sw))"
   ]
  },
  {
   "cell_type": "code",
   "execution_count": null,
   "id": "d2907e35-ccd7-40a5-b396-d13ec9eb0065",
   "metadata": {},
   "outputs": [],
   "source": []
  },
  {
   "cell_type": "code",
   "execution_count": 45,
   "id": "3a13710a-5c57-46b6-9808-ac95a45e7425",
   "metadata": {},
   "outputs": [
    {
     "data": {
      "text/plain": [
       "0    amazing service apple wont even talk question ...\n",
       "1    iphone software update fucked phone big time s...\n",
       "2    hey apple make new ipod dont make new color in...\n",
       "3    ha heavy machinery need apple really dropped b...\n",
       "4    contemplating giving iphone bandwagon simply c...\n",
       "Name: tweet, dtype: object"
      ]
     },
     "execution_count": 45,
     "metadata": {},
     "output_type": "execute_result"
    }
   ],
   "source": [
    "data[\"tweet\"].head(5)"
   ]
  },
  {
   "cell_type": "code",
   "execution_count": 46,
   "id": "fc8b5bfb-67f1-46aa-88a0-a3dcb6440108",
   "metadata": {},
   "outputs": [
    {
     "data": {
      "text/html": [
       "<div>\n",
       "<style scoped>\n",
       "    .dataframe tbody tr th:only-of-type {\n",
       "        vertical-align: middle;\n",
       "    }\n",
       "\n",
       "    .dataframe tbody tr th {\n",
       "        vertical-align: top;\n",
       "    }\n",
       "\n",
       "    .dataframe thead th {\n",
       "        text-align: right;\n",
       "    }\n",
       "</style>\n",
       "<table border=\"1\" class=\"dataframe\">\n",
       "  <thead>\n",
       "    <tr style=\"text-align: right;\">\n",
       "      <th></th>\n",
       "      <th>id</th>\n",
       "      <th>label</th>\n",
       "      <th>tweet</th>\n",
       "    </tr>\n",
       "  </thead>\n",
       "  <tbody>\n",
       "    <tr>\n",
       "      <th>0</th>\n",
       "      <td>5.0</td>\n",
       "      <td>1</td>\n",
       "      <td>amazing service apple wont even talk question ...</td>\n",
       "    </tr>\n",
       "    <tr>\n",
       "      <th>1</th>\n",
       "      <td>6.0</td>\n",
       "      <td>1</td>\n",
       "      <td>iphone software update fucked phone big time s...</td>\n",
       "    </tr>\n",
       "    <tr>\n",
       "      <th>2</th>\n",
       "      <td>11.0</td>\n",
       "      <td>1</td>\n",
       "      <td>hey apple make new ipod dont make new color in...</td>\n",
       "    </tr>\n",
       "    <tr>\n",
       "      <th>3</th>\n",
       "      <td>12.0</td>\n",
       "      <td>1</td>\n",
       "      <td>ha heavy machinery need apple really dropped b...</td>\n",
       "    </tr>\n",
       "    <tr>\n",
       "      <th>4</th>\n",
       "      <td>13.0</td>\n",
       "      <td>1</td>\n",
       "      <td>contemplating giving iphone bandwagon simply c...</td>\n",
       "    </tr>\n",
       "    <tr>\n",
       "      <th>...</th>\n",
       "      <td>...</td>\n",
       "      <td>...</td>\n",
       "      <td>...</td>\n",
       "    </tr>\n",
       "    <tr>\n",
       "      <th>7995</th>\n",
       "      <td>NaN</td>\n",
       "      <td>0</td>\n",
       "      <td>ive recommended product friends theyve impressed</td>\n",
       "    </tr>\n",
       "    <tr>\n",
       "      <th>7996</th>\n",
       "      <td>NaN</td>\n",
       "      <td>0</td>\n",
       "      <td>ive tried countless products past none worked ...</td>\n",
       "    </tr>\n",
       "    <tr>\n",
       "      <th>7997</th>\n",
       "      <td>NaN</td>\n",
       "      <td>0</td>\n",
       "      <td>product made noticeable difference life couldn...</td>\n",
       "    </tr>\n",
       "    <tr>\n",
       "      <th>7998</th>\n",
       "      <td>NaN</td>\n",
       "      <td>0</td>\n",
       "      <td>im amazed well product works zero complaints</td>\n",
       "    </tr>\n",
       "    <tr>\n",
       "      <th>7999</th>\n",
       "      <td>NaN</td>\n",
       "      <td>0</td>\n",
       "      <td>ive using product years never let</td>\n",
       "    </tr>\n",
       "  </tbody>\n",
       "</table>\n",
       "<p>8000 rows × 3 columns</p>\n",
       "</div>"
      ],
      "text/plain": [
       "        id  label                                              tweet\n",
       "0      5.0      1  amazing service apple wont even talk question ...\n",
       "1      6.0      1  iphone software update fucked phone big time s...\n",
       "2     11.0      1  hey apple make new ipod dont make new color in...\n",
       "3     12.0      1  ha heavy machinery need apple really dropped b...\n",
       "4     13.0      1  contemplating giving iphone bandwagon simply c...\n",
       "...    ...    ...                                                ...\n",
       "7995   NaN      0   ive recommended product friends theyve impressed\n",
       "7996   NaN      0  ive tried countless products past none worked ...\n",
       "7997   NaN      0  product made noticeable difference life couldn...\n",
       "7998   NaN      0       im amazed well product works zero complaints\n",
       "7999   NaN      0                  ive using product years never let\n",
       "\n",
       "[8000 rows x 3 columns]"
      ]
     },
     "execution_count": 46,
     "metadata": {},
     "output_type": "execute_result"
    }
   ],
   "source": [
    "\n",
    "data"
   ]
  },
  {
   "cell_type": "code",
   "execution_count": 47,
   "id": "89bf1d9e-68f5-4c44-a870-b5db99a8d993",
   "metadata": {},
   "outputs": [
    {
     "data": {
      "text/plain": [
       "7995     ive recommended product friends theyve impressed\n",
       "7996    ive tried countless products past none worked ...\n",
       "7997    product made noticeable difference life couldn...\n",
       "7998         im amazed well product works zero complaints\n",
       "7999                    ive using product years never let\n",
       "Name: tweet, dtype: object"
      ]
     },
     "execution_count": 47,
     "metadata": {},
     "output_type": "execute_result"
    }
   ],
   "source": [
    "\n",
    "data[\"tweet\"].tail(5)"
   ]
  },
  {
   "cell_type": "markdown",
   "id": "5769b7f0-5e8c-48cb-b215-9e5fc53175cd",
   "metadata": {},
   "source": [
    "### Stemming"
   ]
  },
  {
   "cell_type": "code",
   "execution_count": 48,
   "id": "19d621d0-c332-4dd9-b361-0afb104769e3",
   "metadata": {},
   "outputs": [],
   "source": [
    "from nltk.stem import PorterStemmer\n",
    "ps = PorterStemmer()"
   ]
  },
  {
   "cell_type": "code",
   "execution_count": 49,
   "id": "77f9f496-9eec-466c-a17b-d6d7c38c610e",
   "metadata": {},
   "outputs": [],
   "source": [
    "data[\"tweet\"] = data[\"tweet\"].apply(lambda x: \" \".join(ps.stem(x) for x in x.split()))"
   ]
  },
  {
   "cell_type": "code",
   "execution_count": 50,
   "id": "7e09d309-8c60-45f2-ba9c-89c582cbdc74",
   "metadata": {},
   "outputs": [
    {
     "data": {
      "text/plain": [
       "0    amaz servic appl wont even talk question unles...\n",
       "1    iphon softwar updat fuck phone big time stupid...\n",
       "2    hey appl make new ipod dont make new color inc...\n",
       "3    ha heavi machineri need appl realli drop ball ...\n",
       "4    contempl give iphon bandwagon simpli cellcom n...\n",
       "Name: tweet, dtype: object"
      ]
     },
     "execution_count": 50,
     "metadata": {},
     "output_type": "execute_result"
    }
   ],
   "source": [
    "data[\"tweet\"].head()"
   ]
  },
  {
   "cell_type": "code",
   "execution_count": 51,
   "id": "c6453d97-62e4-4fec-8cbe-f6a9f7d4dcd8",
   "metadata": {},
   "outputs": [
    {
     "data": {
      "text/html": [
       "<div>\n",
       "<style scoped>\n",
       "    .dataframe tbody tr th:only-of-type {\n",
       "        vertical-align: middle;\n",
       "    }\n",
       "\n",
       "    .dataframe tbody tr th {\n",
       "        vertical-align: top;\n",
       "    }\n",
       "\n",
       "    .dataframe thead th {\n",
       "        text-align: right;\n",
       "    }\n",
       "</style>\n",
       "<table border=\"1\" class=\"dataframe\">\n",
       "  <thead>\n",
       "    <tr style=\"text-align: right;\">\n",
       "      <th></th>\n",
       "      <th>id</th>\n",
       "      <th>label</th>\n",
       "      <th>tweet</th>\n",
       "    </tr>\n",
       "  </thead>\n",
       "  <tbody>\n",
       "    <tr>\n",
       "      <th>0</th>\n",
       "      <td>5.0</td>\n",
       "      <td>1</td>\n",
       "      <td>amaz servic appl wont even talk question unles...</td>\n",
       "    </tr>\n",
       "    <tr>\n",
       "      <th>1</th>\n",
       "      <td>6.0</td>\n",
       "      <td>1</td>\n",
       "      <td>iphon softwar updat fuck phone big time stupid...</td>\n",
       "    </tr>\n",
       "    <tr>\n",
       "      <th>2</th>\n",
       "      <td>11.0</td>\n",
       "      <td>1</td>\n",
       "      <td>hey appl make new ipod dont make new color inc...</td>\n",
       "    </tr>\n",
       "    <tr>\n",
       "      <th>3</th>\n",
       "      <td>12.0</td>\n",
       "      <td>1</td>\n",
       "      <td>ha heavi machineri need appl realli drop ball ...</td>\n",
       "    </tr>\n",
       "    <tr>\n",
       "      <th>4</th>\n",
       "      <td>13.0</td>\n",
       "      <td>1</td>\n",
       "      <td>contempl give iphon bandwagon simpli cellcom n...</td>\n",
       "    </tr>\n",
       "    <tr>\n",
       "      <th>...</th>\n",
       "      <td>...</td>\n",
       "      <td>...</td>\n",
       "      <td>...</td>\n",
       "    </tr>\n",
       "    <tr>\n",
       "      <th>7995</th>\n",
       "      <td>NaN</td>\n",
       "      <td>0</td>\n",
       "      <td>ive recommend product friend theyv impress</td>\n",
       "    </tr>\n",
       "    <tr>\n",
       "      <th>7996</th>\n",
       "      <td>NaN</td>\n",
       "      <td>0</td>\n",
       "      <td>ive tri countless product past none work well one</td>\n",
       "    </tr>\n",
       "    <tr>\n",
       "      <th>7997</th>\n",
       "      <td>NaN</td>\n",
       "      <td>0</td>\n",
       "      <td>product made notic differ life couldnt happier</td>\n",
       "    </tr>\n",
       "    <tr>\n",
       "      <th>7998</th>\n",
       "      <td>NaN</td>\n",
       "      <td>0</td>\n",
       "      <td>im amaz well product work zero complaint</td>\n",
       "    </tr>\n",
       "    <tr>\n",
       "      <th>7999</th>\n",
       "      <td>NaN</td>\n",
       "      <td>0</td>\n",
       "      <td>ive use product year never let</td>\n",
       "    </tr>\n",
       "  </tbody>\n",
       "</table>\n",
       "<p>8000 rows × 3 columns</p>\n",
       "</div>"
      ],
      "text/plain": [
       "        id  label                                              tweet\n",
       "0      5.0      1  amaz servic appl wont even talk question unles...\n",
       "1      6.0      1  iphon softwar updat fuck phone big time stupid...\n",
       "2     11.0      1  hey appl make new ipod dont make new color inc...\n",
       "3     12.0      1  ha heavi machineri need appl realli drop ball ...\n",
       "4     13.0      1  contempl give iphon bandwagon simpli cellcom n...\n",
       "...    ...    ...                                                ...\n",
       "7995   NaN      0         ive recommend product friend theyv impress\n",
       "7996   NaN      0  ive tri countless product past none work well one\n",
       "7997   NaN      0     product made notic differ life couldnt happier\n",
       "7998   NaN      0           im amaz well product work zero complaint\n",
       "7999   NaN      0                     ive use product year never let\n",
       "\n",
       "[8000 rows x 3 columns]"
      ]
     },
     "execution_count": 51,
     "metadata": {},
     "output_type": "execute_result"
    }
   ],
   "source": [
    "data"
   ]
  },
  {
   "cell_type": "markdown",
   "id": "e3c8a3e1-df18-4e0c-b6e3-cb4d06aea258",
   "metadata": {},
   "source": [
    "### Bulding vacabulary\n"
   ]
  },
  {
   "cell_type": "code",
   "execution_count": 52,
   "id": "82e6e297-4f91-4d0d-8188-be029c860e04",
   "metadata": {},
   "outputs": [],
   "source": [
    "\n",
    "\n",
    "from collections import Counter\n",
    "vocab = Counter()\n"
   ]
  },
  {
   "cell_type": "code",
   "execution_count": 53,
   "id": "2f2bc352-81b4-43f8-829d-9a085283831e",
   "metadata": {},
   "outputs": [
    {
     "data": {
      "text/plain": [
       "Counter()"
      ]
     },
     "execution_count": 53,
     "metadata": {},
     "output_type": "execute_result"
    }
   ],
   "source": [
    "\n",
    "vocab"
   ]
  },
  {
   "cell_type": "code",
   "execution_count": 54,
   "id": "b59f6e95-43ac-4646-8364-88efe26c1542",
   "metadata": {},
   "outputs": [],
   "source": [
    "for sentence in data['tweet']:\n",
    " vocab.update(sentence.split())"
   ]
  },
  {
   "cell_type": "code",
   "execution_count": 55,
   "id": "1597a5d0-4f9c-4ccc-942c-ee17b834635d",
   "metadata": {},
   "outputs": [
    {
     "data": {
      "text/plain": [
       "15921"
      ]
     },
     "execution_count": 55,
     "metadata": {},
     "output_type": "execute_result"
    }
   ],
   "source": [
    "len (vocab)"
   ]
  },
  {
   "cell_type": "code",
   "execution_count": 56,
   "id": "00b0eaa3-ccdb-468a-adbc-f045df860bf3",
   "metadata": {},
   "outputs": [
    {
     "data": {
      "text/plain": [
       "(8000, 3)"
      ]
     },
     "execution_count": 56,
     "metadata": {},
     "output_type": "execute_result"
    }
   ],
   "source": [
    "data.shape"
   ]
  },
  {
   "cell_type": "code",
   "execution_count": 57,
   "id": "f8c42135-f335-4bb6-979d-24133d776d6f",
   "metadata": {},
   "outputs": [],
   "source": [
    "tokens = [key for key in vocab if vocab[key] > 10]"
   ]
  },
  {
   "cell_type": "code",
   "execution_count": 58,
   "id": "41edcb7f-83e2-4a7c-9c8b-e6627782349c",
   "metadata": {},
   "outputs": [
    {
     "data": {
      "text/plain": [
       "1157"
      ]
     },
     "execution_count": 58,
     "metadata": {},
     "output_type": "execute_result"
    }
   ],
   "source": [
    "len(tokens)"
   ]
  },
  {
   "cell_type": "code",
   "execution_count": 60,
   "id": "b38af5b7-a808-40a8-b122-472693efeb6e",
   "metadata": {},
   "outputs": [],
   "source": [
    "def save_vocabulary(lines , filename):\n",
    "    data = '\\n'.join(lines)\n",
    "    file = open(filename, 'w' , encoding =\"utf-8\")\n",
    "    file.write(data)\n",
    "    file.close()\n",
    "\n",
    "save_vocabulary(tokens, '../static/model/vocabulary.txt')"
   ]
  },
  {
   "cell_type": "markdown",
   "id": "bfdd6796-c3ae-4542-bd0f-b5fb08678bde",
   "metadata": {},
   "source": [
    "### Divide dataset"
   ]
  },
  {
   "cell_type": "code",
   "execution_count": 61,
   "id": "c68eef9d-eb1e-4beb-bc52-a576a98c0c66",
   "metadata": {},
   "outputs": [],
   "source": [
    "x = data ['tweet']\n",
    "y = data ['label']"
   ]
  },
  {
   "cell_type": "code",
   "execution_count": 62,
   "id": "155e5e2e-ed0e-412e-839a-319ab5edf9d4",
   "metadata": {},
   "outputs": [
    {
     "data": {
      "text/plain": [
       "0       amaz servic appl wont even talk question unles...\n",
       "1       iphon softwar updat fuck phone big time stupid...\n",
       "2       hey appl make new ipod dont make new color inc...\n",
       "3       ha heavi machineri need appl realli drop ball ...\n",
       "4       contempl give iphon bandwagon simpli cellcom n...\n",
       "                              ...                        \n",
       "7995           ive recommend product friend theyv impress\n",
       "7996    ive tri countless product past none work well one\n",
       "7997       product made notic differ life couldnt happier\n",
       "7998             im amaz well product work zero complaint\n",
       "7999                       ive use product year never let\n",
       "Name: tweet, Length: 8000, dtype: object"
      ]
     },
     "execution_count": 62,
     "metadata": {},
     "output_type": "execute_result"
    }
   ],
   "source": [
    "x\n"
   ]
  },
  {
   "cell_type": "code",
   "execution_count": 63,
   "id": "1998f426-5782-4ee6-9727-7f248d7979c7",
   "metadata": {},
   "outputs": [
    {
     "data": {
      "text/plain": [
       "0       1\n",
       "1       1\n",
       "2       1\n",
       "3       1\n",
       "4       1\n",
       "       ..\n",
       "7995    0\n",
       "7996    0\n",
       "7997    0\n",
       "7998    0\n",
       "7999    0\n",
       "Name: label, Length: 8000, dtype: int64"
      ]
     },
     "execution_count": 63,
     "metadata": {},
     "output_type": "execute_result"
    }
   ],
   "source": [
    "y"
   ]
  },
  {
   "cell_type": "code",
   "execution_count": 64,
   "id": "6472e919-d001-435d-9c59-2583f0ec7299",
   "metadata": {},
   "outputs": [],
   "source": [
    "from sklearn.model_selection import train_test_split\n",
    "x_train , x_test, y_train, y_test =train_test_split(x,y, test_size=0.2) "
   ]
  },
  {
   "cell_type": "code",
   "execution_count": 65,
   "id": "cfe4ad63-f1d4-42b1-9985-5ca23395dfcc",
   "metadata": {},
   "outputs": [
    {
     "data": {
      "text/plain": [
       "(6400,)"
      ]
     },
     "execution_count": 65,
     "metadata": {},
     "output_type": "execute_result"
    }
   ],
   "source": [
    "x_train.shape"
   ]
  },
  {
   "cell_type": "code",
   "execution_count": 66,
   "id": "1e8d7e7b-5f02-45f5-a1b1-21afd1c28478",
   "metadata": {},
   "outputs": [
    {
     "data": {
      "text/plain": [
       "(1600,)"
      ]
     },
     "execution_count": 66,
     "metadata": {},
     "output_type": "execute_result"
    }
   ],
   "source": [
    "x_test.shape"
   ]
  },
  {
   "cell_type": "code",
   "execution_count": 67,
   "id": "853afe00-79c4-4de7-81ce-0a35b02333f6",
   "metadata": {},
   "outputs": [
    {
     "data": {
      "text/plain": [
       "2927    0\n",
       "2857    0\n",
       "345     1\n",
       "3275    0\n",
       "4434    0\n",
       "       ..\n",
       "330     1\n",
       "1801    1\n",
       "1069    1\n",
       "728     1\n",
       "2713    0\n",
       "Name: label, Length: 6400, dtype: int64"
      ]
     },
     "execution_count": 67,
     "metadata": {},
     "output_type": "execute_result"
    }
   ],
   "source": [
    "y_train"
   ]
  },
  {
   "cell_type": "code",
   "execution_count": 68,
   "id": "b55aba7b-7741-4b10-81b3-b8d93f934c91",
   "metadata": {},
   "outputs": [
    {
     "data": {
      "text/plain": [
       "4255       new toy bring trip tmr samsung galaxynot phone\n",
       "5596    hannib buress join ‘spiderman… news photograph...\n",
       "1312     yay new appl updat brick ipod woo hoo thank appl\n",
       "2971    new phone arriv coupl day excit appl iphones i...\n",
       "1591    nokia lumia back order long whenll get phone c...\n",
       "                              ...                        \n",
       "5838    new phone yay thank awesom folk best buy flint...\n",
       "872     phone wouldnt turn past like hour gave heart a...\n",
       "1789    iphon want receiv text toanycameatonc iphonepr...\n",
       "1872    unbeliev terribl iphon less hour alreadi froze...\n",
       "7371    march nd recent buy earli birthday present ps ...\n",
       "Name: tweet, Length: 1600, dtype: object"
      ]
     },
     "execution_count": 68,
     "metadata": {},
     "output_type": "execute_result"
    }
   ],
   "source": [
    "x_test"
   ]
  },
  {
   "cell_type": "markdown",
   "id": "6e5c84fa-3215-487b-bd2b-2f56f745181a",
   "metadata": {},
   "source": [
    "### vectorization"
   ]
  },
  {
   "cell_type": "code",
   "execution_count": 69,
   "id": "1787affc-f90a-4ac1-870d-2a1d4a52e58e",
   "metadata": {},
   "outputs": [],
   "source": [
    "\n",
    "\n",
    "def vectorizer(ds, vocabulary):\n",
    "    vectorized_lst = []\n",
    "\n",
    "    for sentence in ds:\n",
    "        sentence_lst = np.zeros(len(vocabulary))\n",
    "\n",
    "        for i in range(len(vocabulary)):\n",
    "            if vocabulary[i] in sentence.split():\n",
    "                sentence_lst[i] = 1\n",
    "               \n",
    "        vectorized_lst.append(sentence_lst)\n",
    "\n",
    "    vectorized_lst_new = np.asarray(vectorized_lst, dtype=np.float32)\n",
    "    return vectorized_lst_new\n"
   ]
  },
  {
   "cell_type": "code",
   "execution_count": 70,
   "id": "605f29bf-a89e-42e8-8a4b-3e0dbdd14d11",
   "metadata": {},
   "outputs": [],
   "source": [
    "\n",
    "vecterized_x_train = vectorizer(x_train, tokens)"
   ]
  },
  {
   "cell_type": "code",
   "execution_count": 71,
   "id": "2a37d8c5-d731-47cb-91b9-9e87017d15f8",
   "metadata": {},
   "outputs": [],
   "source": [
    "vecterized_x_test = vectorizer(x_test, tokens)"
   ]
  },
  {
   "cell_type": "code",
   "execution_count": 72,
   "id": "faac0add-702d-4875-9dfb-4cb1e69322d3",
   "metadata": {},
   "outputs": [
    {
     "data": {
      "text/plain": [
       "array([[0., 0., 1., ..., 0., 0., 0.],\n",
       "       [0., 0., 0., ..., 0., 0., 0.],\n",
       "       [0., 0., 1., ..., 0., 0., 0.],\n",
       "       ...,\n",
       "       [0., 0., 1., ..., 0., 0., 0.],\n",
       "       [0., 0., 1., ..., 0., 0., 0.],\n",
       "       [0., 0., 0., ..., 0., 0., 0.]], dtype=float32)"
      ]
     },
     "execution_count": 72,
     "metadata": {},
     "output_type": "execute_result"
    }
   ],
   "source": [
    "vecterized_x_train"
   ]
  },
  {
   "cell_type": "code",
   "execution_count": 73,
   "id": "2f580d7e-130f-4814-aac4-bc6d86b0ce72",
   "metadata": {},
   "outputs": [
    {
     "data": {
      "text/plain": [
       "2927    0\n",
       "2857    0\n",
       "345     1\n",
       "3275    0\n",
       "4434    0\n",
       "       ..\n",
       "330     1\n",
       "1801    1\n",
       "1069    1\n",
       "728     1\n",
       "2713    0\n",
       "Name: label, Length: 6400, dtype: int64"
      ]
     },
     "execution_count": 73,
     "metadata": {},
     "output_type": "execute_result"
    }
   ],
   "source": [
    "y_train"
   ]
  },
  {
   "cell_type": "code",
   "execution_count": 74,
   "id": "bfe5bd20-0cf2-4ba5-a897-35aea868e7a4",
   "metadata": {},
   "outputs": [
    {
     "data": {
      "text/plain": [
       "array([[0., 0., 0., ..., 0., 0., 0.],\n",
       "       [0., 0., 0., ..., 0., 0., 0.],\n",
       "       [0., 0., 1., ..., 0., 0., 0.],\n",
       "       ...,\n",
       "       [0., 0., 0., ..., 0., 0., 0.],\n",
       "       [0., 0., 1., ..., 0., 0., 0.],\n",
       "       [0., 0., 0., ..., 0., 0., 0.]], dtype=float32)"
      ]
     },
     "execution_count": 74,
     "metadata": {},
     "output_type": "execute_result"
    }
   ],
   "source": [
    "vecterized_x_test"
   ]
  },
  {
   "cell_type": "code",
   "execution_count": 75,
   "id": "92f536f7-9328-4fa1-9b33-3d71172896f2",
   "metadata": {},
   "outputs": [
    {
     "data": {
      "text/plain": [
       "4255    0\n",
       "5596    0\n",
       "1312    1\n",
       "2971    0\n",
       "1591    1\n",
       "       ..\n",
       "5838    0\n",
       "872     1\n",
       "1789    1\n",
       "1872    1\n",
       "7371    0\n",
       "Name: label, Length: 1600, dtype: int64"
      ]
     },
     "execution_count": 75,
     "metadata": {},
     "output_type": "execute_result"
    }
   ],
   "source": [
    "\n",
    "y_test"
   ]
  },
  {
   "cell_type": "code",
   "execution_count": 76,
   "id": "47cb805c-d27d-47b4-a997-edbbfa93fb83",
   "metadata": {},
   "outputs": [
    {
     "data": {
      "text/plain": [
       "label\n",
       "0    4764\n",
       "1    1636\n",
       "Name: count, dtype: int64"
      ]
     },
     "execution_count": 76,
     "metadata": {},
     "output_type": "execute_result"
    }
   ],
   "source": [
    "y_train.value_counts()"
   ]
  },
  {
   "cell_type": "code",
   "execution_count": 77,
   "id": "77142ba9-5da8-4af1-a14e-b23fcea7ecc0",
   "metadata": {},
   "outputs": [
    {
     "data": {
      "image/png": "[encoded data removed]",
      "text/plain": [
       "<Figure size 640x480 with 1 Axes>"
      ]
     },
     "metadata": {},
     "output_type": "display_data"
    }
   ],
   "source": [
    "plt.pie(np.array([y_train.value_counts()[0], y_train.value_counts()[1]]), labels=['Positive' ,'Negative'])\n",
    "plt.show()"
   ]
  },
  {
   "cell_type": "markdown",
   "id": "c17af567-6645-49ea-a738-16de3d8d94be",
   "metadata": {},
   "source": [
    "### handle in blance datasets"
   ]
  },
  {
   "cell_type": "code",
   "execution_count": 78,
   "id": "282377f5-3f37-444c-8263-b5cc4613ca4b",
   "metadata": {},
   "outputs": [
    {
     "name": "stdout",
     "output_type": "stream",
     "text": [
      "Defaulting to user installation because normal site-packages is not writeable\n",
      "Requirement already satisfied: imbalanced_learn in c:\\users\\apex\\appdata\\roaming\\python\\python312\\site-packages (0.12.0)\n",
      "Requirement already satisfied: numpy>=1.17.3 in c:\\users\\apex\\appdata\\roaming\\python\\python312\\site-packages (from imbalanced_learn) (1.26.3)\n",
      "Requirement already satisfied: scipy>=1.5.0 in c:\\users\\apex\\appdata\\roaming\\python\\python312\\site-packages (from imbalanced_learn) (1.12.0)\n",
      "Requirement already satisfied: scikit-learn>=1.0.2 in c:\\users\\apex\\appdata\\roaming\\python\\python312\\site-packages (from imbalanced_learn) (1.4.0)\n",
      "Requirement already satisfied: joblib>=1.1.1 in c:\\users\\apex\\appdata\\roaming\\python\\python312\\site-packages (from imbalanced_learn) (1.3.2)\n",
      "Requirement already satisfied: threadpoolctl>=2.0.0 in c:\\users\\apex\\appdata\\roaming\\python\\python312\\site-packages (from imbalanced_learn) (3.2.0)\n"
     ]
    }
   ],
   "source": [
    "!pip install imbalanced_learn"
   ]
  },
  {
   "cell_type": "code",
   "execution_count": 79,
   "id": "f430c5be-8f9d-41c6-a936-807095d1299a",
   "metadata": {},
   "outputs": [
    {
     "name": "stdout",
     "output_type": "stream",
     "text": [
      "(9528, 1157) (9528,)\n"
     ]
    }
   ],
   "source": [
    "from imblearn.over_sampling import SMOTE\n",
    "smote = SMOTE()\n",
    "vecterized_x_train_smote, y_train_smote = smote.fit_resample(vecterized_x_train ,y_train)\n",
    "\n",
    "print(vecterized_x_train_smote.shape, y_train_smote.shape)"
   ]
  },
  {
   "cell_type": "code",
   "execution_count": 80,
   "id": "0189e1b9-f324-4484-9df8-f92b401cbedf",
   "metadata": {},
   "outputs": [
    {
     "data": {
      "text/plain": [
       "label\n",
       "0    4764\n",
       "1    4764\n",
       "Name: count, dtype: int64"
      ]
     },
     "execution_count": 80,
     "metadata": {},
     "output_type": "execute_result"
    }
   ],
   "source": [
    "y_train_smote.value_counts()"
   ]
  },
  {
   "cell_type": "code",
   "execution_count": 81,
   "id": "df1c51c1-c0a3-4eba-a889-21d04399e971",
   "metadata": {},
   "outputs": [
    {
     "data": {
      "image/png": "[encoded data removed]",
      "text/plain": [
       "<Figure size 640x480 with 1 Axes>"
      ]
     },
     "metadata": {},
     "output_type": "display_data"
    }
   ],
   "source": [
    "plt.pie(np.array([y_train_smote.value_counts()[0], y_train_smote.value_counts()[1]]), labels=['Positive' ,'Negative'])\n",
    "plt.show()"
   ]
  },
  {
   "cell_type": "code",
   "execution_count": 82,
   "id": "88a4bdea-d0ab-406a-98de-b1cbc34e953b",
   "metadata": {},
   "outputs": [
    {
     "data": {
      "text/plain": [
       "array([[0., 0., 1., ..., 0., 0., 0.],\n",
       "       [0., 0., 0., ..., 0., 0., 0.],\n",
       "       [0., 0., 1., ..., 0., 0., 0.],\n",
       "       ...,\n",
       "       [0., 0., 1., ..., 0., 0., 0.],\n",
       "       [0., 0., 1., ..., 0., 0., 0.],\n",
       "       [0., 0., 1., ..., 0., 0., 0.]], dtype=float32)"
      ]
     },
     "execution_count": 82,
     "metadata": {},
     "output_type": "execute_result"
    }
   ],
   "source": [
    "vecterized_x_train_smote"
   ]
  },
  {
   "cell_type": "code",
   "execution_count": 83,
   "id": "c9e7c518-4f37-45f1-9840-e4faa87a55e0",
   "metadata": {},
   "outputs": [
    {
     "data": {
      "text/plain": [
       "0       0\n",
       "1       0\n",
       "2       1\n",
       "3       0\n",
       "4       0\n",
       "       ..\n",
       "9523    1\n",
       "9524    1\n",
       "9525    1\n",
       "9526    1\n",
       "9527    1\n",
       "Name: label, Length: 9528, dtype: int64"
      ]
     },
     "execution_count": 83,
     "metadata": {},
     "output_type": "execute_result"
    }
   ],
   "source": [
    "y_train_smote"
   ]
  },
  {
   "cell_type": "code",
   "execution_count": 84,
   "id": "6400ac96-5f5a-4f06-9ebb-b5b3b9733a3a",
   "metadata": {},
   "outputs": [
    {
     "data": {
      "text/plain": [
       "array([[0., 0., 0., ..., 0., 0., 0.],\n",
       "       [0., 0., 0., ..., 0., 0., 0.],\n",
       "       [0., 0., 1., ..., 0., 0., 0.],\n",
       "       ...,\n",
       "       [0., 0., 0., ..., 0., 0., 0.],\n",
       "       [0., 0., 1., ..., 0., 0., 0.],\n",
       "       [0., 0., 0., ..., 0., 0., 0.]], dtype=float32)"
      ]
     },
     "execution_count": 84,
     "metadata": {},
     "output_type": "execute_result"
    }
   ],
   "source": [
    "vecterized_x_test\n",
    "\n"
   ]
  },
  {
   "cell_type": "code",
   "execution_count": 85,
   "id": "c1aefedf-d2d2-4af1-a690-ebe41ed8a60b",
   "metadata": {},
   "outputs": [
    {
     "data": {
      "text/plain": [
       "4255    0\n",
       "5596    0\n",
       "1312    1\n",
       "2971    0\n",
       "1591    1\n",
       "       ..\n",
       "5838    0\n",
       "872     1\n",
       "1789    1\n",
       "1872    1\n",
       "7371    0\n",
       "Name: label, Length: 1600, dtype: int64"
      ]
     },
     "execution_count": 85,
     "metadata": {},
     "output_type": "execute_result"
    }
   ],
   "source": [
    "y_test"
   ]
  },
  {
   "cell_type": "markdown",
   "id": "3fee8075-538c-47d4-a1f5-2b0bdb33543c",
   "metadata": {},
   "source": [
    "### Model Traing"
   ]
  },
  {
   "cell_type": "code",
   "execution_count": 86,
   "id": "1baf42c1-a106-4042-b417-b00c3ece121f",
   "metadata": {},
   "outputs": [],
   "source": [
    "from sklearn.linear_model import LogisticRegression\n",
    "from sklearn.naive_bayes import MultinomialNB\n",
    "from sklearn.tree import DecisionTreeClassifier\n",
    "from sklearn.ensemble import RandomForestClassifier\n",
    "from sklearn.svm import SVC\n"
   ]
  },
  {
   "cell_type": "code",
   "execution_count": 87,
   "id": "52006892-233d-4668-8e1e-cfe6f9381c16",
   "metadata": {},
   "outputs": [],
   "source": [
    "from sklearn.metrics import accuracy_score, f1_score, recall_score, precision_score\n",
    "\n",
    "def training_score(y_act, y_pred):\n",
    "    acc = round(accuracy_score(y_act ,y_pred), 3)\n",
    "    pr = round(precision_score(y_act ,y_pred), 3)\n",
    "    rec = round (recall_score(y_act ,y_pred), 3)\n",
    "    f1 = round(f1_score(y_act ,y_pred), 3)\n",
    "    print(f'Training Score:\\n\\tAccuracy = {acc}\\n\\tPrecision = {pr}\\n\\tRecall ={rec}\\n\\tF1-Score ={f1}')\n",
    "    \n",
    "def validation_score(y_act, y_pred):\n",
    "    acc = round(accuracy_score(y_act ,y_pred), 3)\n",
    "    pr = round(precision_score(y_act ,y_pred), 3)\n",
    "    rec = round (recall_score(y_act ,y_pred), 3)\n",
    "    f1 = round(f1_score(y_act ,y_pred), 3)\n",
    "    print(f'Testing Score:\\n\\tAccuracy = {acc}\\n\\tPrecision = {pr}\\n\\tRecall ={rec}\\n\\tF1-Score ={f1}')\n"
   ]
  },
  {
   "cell_type": "markdown",
   "id": "adfb15ea-e856-4f3a-a510-fb523de1dd22",
   "metadata": {},
   "source": [
    "### Logistic regression"
   ]
  },
  {
   "cell_type": "code",
   "execution_count": 88,
   "id": "95290f69-f5ca-48c8-b3a1-90428cd94b77",
   "metadata": {},
   "outputs": [
    {
     "name": "stdout",
     "output_type": "stream",
     "text": [
      "Training Score:\n",
      "\tAccuracy = 0.939\n",
      "\tPrecision = 0.914\n",
      "\tRecall =0.969\n",
      "\tF1-Score =0.94\n",
      "Testing Score:\n",
      "\tAccuracy = 0.884\n",
      "\tPrecision = 0.717\n",
      "\tRecall =0.869\n",
      "\tF1-Score =0.786\n"
     ]
    }
   ],
   "source": [
    "lr = LogisticRegression()\n",
    "\n",
    "lr.fit(vecterized_x_train_smote ,y_train_smote )\n",
    "\n",
    "y_train_pred = lr.predict( vecterized_x_train_smote)\n",
    "\n",
    "y_test_pred = lr.predict(vecterized_x_test)\n",
    "\n",
    "training_score(y_train_smote , y_train_pred)\n",
    "\n",
    "validation_score(y_test ,y_test_pred)\n"
   ]
  },
  {
   "cell_type": "markdown",
   "id": "2e9ead16-b4b5-4430-9be8-8f6a0da632cf",
   "metadata": {},
   "source": [
    "### Naive Bayes"
   ]
  },
  {
   "cell_type": "code",
   "execution_count": 89,
   "id": "10d69602-8cbb-49c8-b4e8-053cb018b6b3",
   "metadata": {},
   "outputs": [
    {
     "name": "stdout",
     "output_type": "stream",
     "text": [
      "Training Score:\n",
      "\tAccuracy = 0.903\n",
      "\tPrecision = 0.863\n",
      "\tRecall =0.957\n",
      "\tF1-Score =0.908\n",
      "Testing Score:\n",
      "\tAccuracy = 0.868\n",
      "\tPrecision = 0.664\n",
      "\tRecall =0.931\n",
      "\tF1-Score =0.775\n"
     ]
    }
   ],
   "source": [
    "mnb = MultinomialNB()\n",
    "\n",
    "mnb.fit(vecterized_x_train_smote ,y_train_smote )\n",
    "\n",
    "y_train_pred = mnb.predict( vecterized_x_train_smote)\n",
    "\n",
    "y_test_pred = mnb.predict(vecterized_x_test)\n",
    "\n",
    "training_score(y_train_smote , y_train_pred)\n",
    "\n",
    "validation_score(y_test ,y_test_pred)"
   ]
  },
  {
   "cell_type": "markdown",
   "id": "d610084d-46d4-45e8-8a43-c68d3a6544e5",
   "metadata": {},
   "source": [
    "### Desicion Tree"
   ]
  },
  {
   "cell_type": "code",
   "execution_count": 90,
   "id": "0d107a5f-c977-4629-a8f9-c178f9316d61",
   "metadata": {},
   "outputs": [
    {
     "name": "stdout",
     "output_type": "stream",
     "text": [
      "Training Score:\n",
      "\tAccuracy = 1.0\n",
      "\tPrecision = 1.0\n",
      "\tRecall =1.0\n",
      "\tF1-Score =1.0\n",
      "Testing Score:\n",
      "\tAccuracy = 0.839\n",
      "\tPrecision = 0.679\n",
      "\tRecall =0.646\n",
      "\tF1-Score =0.662\n"
     ]
    }
   ],
   "source": [
    "dt = DecisionTreeClassifier()\n",
    "\n",
    "dt.fit(vecterized_x_train_smote ,y_train_smote )\n",
    "\n",
    "y_train_pred = dt.predict( vecterized_x_train_smote)\n",
    "\n",
    "y_test_pred = dt.predict(vecterized_x_test)\n",
    "\n",
    "training_score(y_train_smote , y_train_pred)\n",
    "\n",
    "validation_score(y_test ,y_test_pred)"
   ]
  },
  {
   "cell_type": "markdown",
   "id": "54e29742-5abb-4599-8868-0952ec129a0f",
   "metadata": {},
   "source": [
    "### Random Forest"
   ]
  },
  {
   "cell_type": "code",
   "execution_count": 91,
   "id": "4e579021-5243-4a55-866a-c8cef1b4ddeb",
   "metadata": {},
   "outputs": [
    {
     "name": "stdout",
     "output_type": "stream",
     "text": [
      "Training Score:\n",
      "\tAccuracy = 1.0\n",
      "\tPrecision = 1.0\n",
      "\tRecall =1.0\n",
      "\tF1-Score =1.0\n",
      "Testing Score:\n",
      "\tAccuracy = 0.873\n",
      "\tPrecision = 0.756\n",
      "\tRecall =0.708\n",
      "\tF1-Score =0.731\n"
     ]
    }
   ],
   "source": [
    "rf = RandomForestClassifier()\n",
    "\n",
    "rf.fit(vecterized_x_train_smote ,y_train_smote)\n",
    "\n",
    "y_train_pred = rf.predict(vecterized_x_train_smote)\n",
    "\n",
    "y_test_pred = rf.predict(vecterized_x_test)\n",
    "\n",
    "training_score(y_train_smote , y_train_pred)\n",
    "\n",
    "validation_score(y_test ,y_test_pred)"
   ]
  },
  {
   "cell_type": "markdown",
   "id": "4cbf9d72-3133-42d9-ab33-69862080c089",
   "metadata": {},
   "source": [
    "### Support vector mechine"
   ]
  },
  {
   "cell_type": "code",
   "execution_count": 92,
   "id": "286f84b2-e7c1-4cf4-98af-f2879e2cf4ad",
   "metadata": {},
   "outputs": [
    {
     "name": "stdout",
     "output_type": "stream",
     "text": [
      "Training Score:\n",
      "\tAccuracy = 0.978\n",
      "\tPrecision = 0.962\n",
      "\tRecall =0.995\n",
      "\tF1-Score =0.978\n",
      "Testing Score:\n",
      "\tAccuracy = 0.892\n",
      "\tPrecision = 0.752\n",
      "\tRecall =0.831\n",
      "\tF1-Score =0.789\n"
     ]
    }
   ],
   "source": [
    "svm = SVC()\n",
    "\n",
    "svm.fit(vecterized_x_train_smote ,y_train_smote)\n",
    "\n",
    "y_train_pred = svm.predict(vecterized_x_train_smote)\n",
    "\n",
    "y_test_pred = svm.predict(vecterized_x_test)\n",
    "\n",
    "training_score(y_train_smote , y_train_pred)\n",
    "\n",
    "validation_score(y_test ,y_test_pred)"
   ]
  },
  {
   "cell_type": "markdown",
   "id": "f401f268-a6aa-4fd4-a556-1de642e525ab",
   "metadata": {},
   "source": [
    "### Save Modle"
   ]
  },
  {
   "cell_type": "code",
   "execution_count": 93,
   "id": "27901caf-23ba-497b-bff1-5a0966ca4f87",
   "metadata": {},
   "outputs": [],
   "source": [
    "import pickle\n",
    "with open('../static/model/model.pickle' ,'wb') as file:\n",
    "    pickle.dump(svm ,file)"
   ]
  },
  {
   "cell_type": "code",
   "execution_count": null,
   "id": "66ad96d1-5a5d-4ea5-b067-3a3e30c32f45",
   "metadata": {},
   "outputs": [],
   "source": []
  }
 ],
 "metadata": {
  "kernelspec": {
   "display_name": "Python 3 (ipykernel)",
   "language": "python",
   "name": "python3"
  },
  "language_info": {
   "codemirror_mode": {
    "name": "ipython",
    "version": 3
   },
   "file_extension": ".py",
   "mimetype": "text/x-python",
   "name": "python",
   "nbconvert_exporter": "python",
   "pygments_lexer": "ipython3",
   "version": "3.12.1"
  }
 },
 "nbformat": 4,
 "nbformat_minor": 5
}
